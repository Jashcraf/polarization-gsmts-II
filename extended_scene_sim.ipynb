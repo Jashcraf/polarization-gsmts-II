{
 "cells": [
  {
   "cell_type": "markdown",
   "metadata": {},
   "source": [
    "# Simulation of Extended Scenes with Poke and HCIPy\n",
    "\n",
    "We are interested, on occasion, in detection of sources that aren't just points (bye bye exoplanets!). One such feature of interest in high-contrast imaging (HCI) are debris disks. There are a variety of reasons for this that I am not terribly qualified to explain, but they can inform planetary system formation in a very cool way. We can detect them in scattered light, which imparts a relatively significant linear polarization signature on the light.\n",
    "\n",
    "To simulate a debris disks, we first consider our propagation operator $\\mathbf{\\mathcal{P}}$ which represents our forward model though our coronagraph, which interacts with a few complex masks.\n",
    "\n",
    "$$\\mathcal{P} = \\mathcal{F}[\\mathcal{F}[\\mathcal{F}[\\mathcal{F}[U_{o}] \\times \\mathbf{A}_{ep}] \\times \\mathbf{A}_{FPM}]\\times \\mathbf{A}_{LS}]$$\n",
    "\n",
    "Our propagation operator is the Fourier transform, represented by $\\mathcal{F}$. These operations are linear, so we can make use of a couple of theorems to make our simulation easier. The first is the convolution identity of the fourier transform. We know that a convolution is represented by a multiplication in the fourier domain.\n",
    "\n",
    "$$A * B = \\mathcal{F}^{-1} [\\mathcal{F}[A] \\mathcal{F}[B]]$$\n",
    "\n",
    "Since the object (a disk) is conjugate to the image plane, we know that the relation between them is equal to the convolution of the object with the forward model's $\\mathcal{P}$ point-response function.\n",
    "\n",
    "$$\\sum_{\\theta_{x},\\theta_{y}} PRF_{\\theta_{x},\\theta_{y}}$$"
   ]
  },
  {
   "cell_type": "code",
   "execution_count": 2,
   "metadata": {},
   "outputs": [],
   "source": [
    "import numpy as np\n",
    "import matplotlib.pyplot as plt\n",
    "from astropy.io import fits\n",
    "import plots"
   ]
  },
  {
   "cell_type": "code",
   "execution_count": 171,
   "metadata": {},
   "outputs": [],
   "source": [
    "pth = 'HR4796A/'\n",
    "I = fits.getdata(pth+'I_HR4796A.fits')\n",
    "Q = fits.getdata(pth+'Q_HR4796A.fits')\n",
    "U = fits.getdata(pth+'U_HR4796A.fits')\n",
    "V = fits.getdata(pth+'V_HR4796A.fits')\n",
    "stokes_orig = [I,Q,U,V]"
   ]
  },
  {
   "cell_type": "code",
   "execution_count": 126,
   "metadata": {},
   "outputs": [],
   "source": [
    "# assemble the forward model\n",
    "from hcipy import *\n",
    "\n",
    "aperture = make_magellan_aperture(True)\n",
    "\n",
    "def forward_model(tiltsx,tiltsy,aperture,pupil_pix,focal_q,n_airy,order=4):\n",
    "    \"\"\"generate grid of PSFs, nyquist sampling the focal plane\n",
    "\n",
    "    Parameters\n",
    "    ----------\n",
    "    tilts : numpy.ndarray\n",
    "        array of PSF locations to simulate, units of L/D\n",
    "    \"\"\"\n",
    "\n",
    "     # assemble the grids\n",
    "    pupil_grid = make_pupil_grid(pupil_pix)\n",
    "    focal_grid = make_focal_grid(focal_q,n_airy)\n",
    "\n",
    "    print('focal grid shape = ',focal_grid.shape)\n",
    "\n",
    "    focal_pix = focal_grid.shape[0]\n",
    "\n",
    "    # set up a propagator\n",
    "    prop = FraunhoferPropagator(pupil_grid,focal_grid)\n",
    "\n",
    "    # set up the coronagraph\n",
    "    eval_aperture = aperture(pupil_grid)\n",
    "    coro = PerfectCoronagraph(eval_aperture,order)\n",
    "\n",
    "    psf_grid = np.zeros([*tiltsx.shape,focal_pix,focal_pix])\n",
    "    \n",
    "    for i in range(tiltsx.shape[0]):\n",
    "        for j in range(tiltsx.shape[1]):\n",
    "\n",
    "            # create tilt wavefront\n",
    "            tilt = np.exp(1j * 2 * np.pi * (pupil_grid.x * tiltsx[i,j] + pupil_grid.y * tiltsy[i,j]))\n",
    "\n",
    "            # compute the PSF\n",
    "            psf = prop(coro.forward(Wavefront(eval_aperture*tilt)))\n",
    "            psf_grid[i,j] = psf.intensity.shaped\n",
    "\n",
    "    return psf_grid\n"
   ]
  },
  {
   "cell_type": "code",
   "execution_count": 127,
   "metadata": {},
   "outputs": [
    {
     "name": "stdout",
     "output_type": "stream",
     "text": [
      "focal grid shape =  [64 64]\n"
     ]
    }
   ],
   "source": [
    "tilts = np.linspace(-12,12,256)\n",
    "tx,ty = np.meshgrid(tilts,tilts)\n",
    "psf_grid = forward_model(tx,ty,aperture,256,4,8)"
   ]
  },
  {
   "cell_type": "code",
   "execution_count": 128,
   "metadata": {},
   "outputs": [
    {
     "data": {
      "text/plain": [
       "(256, 256, 64, 64)"
      ]
     },
     "execution_count": 128,
     "metadata": {},
     "output_type": "execute_result"
    }
   ],
   "source": [
    "psf_grid.shape"
   ]
  },
  {
   "cell_type": "code",
   "execution_count": 159,
   "metadata": {},
   "outputs": [],
   "source": [
    "psf_matrix = psf_grid.reshape([int(256**2),int(64**2)]).T"
   ]
  },
  {
   "cell_type": "code",
   "execution_count": 173,
   "metadata": {},
   "outputs": [],
   "source": [
    "I_conv = psf_matrix @ I.ravel()\n",
    "Q_conv = psf_matrix @ Q.ravel()\n",
    "U_conv = psf_matrix @ U.ravel()\n",
    "V_conv = psf_matrix @ V.ravel()"
   ]
  },
  {
   "cell_type": "code",
   "execution_count": 174,
   "metadata": {},
   "outputs": [],
   "source": [
    "stokes = [I_conv.reshape([64,64]),\n",
    "          Q_conv.reshape([64,64]),\n",
    "          U_conv.reshape([64,64]),\n",
    "          V_conv.reshape([64,64])]"
   ]
  },
  {
   "cell_type": "code",
   "execution_count": 175,
   "metadata": {},
   "outputs": [
    {
     "data": {
      "text/plain": [
       "<matplotlib.image.AxesImage at 0x1c80328cee0>"
      ]
     },
     "execution_count": 175,
     "metadata": {},
     "output_type": "execute_result"
    },
    {
     "data": {
      "image/png": "[encoded data removed]",
      "text/plain": [
       "<Figure size 640x480 with 1 Axes>"
      ]
     },
     "metadata": {},
     "output_type": "display_data"
    }
   ],
   "source": [
    "plt.imshow(stokes[1])"
   ]
  },
  {
   "cell_type": "code",
   "execution_count": 138,
   "metadata": {},
   "outputs": [
    {
     "data": {
      "text/plain": [
       "2.147483648"
      ]
     },
     "execution_count": 138,
     "metadata": {},
     "output_type": "execute_result"
    }
   ],
   "source": [
    "psf_matrix.nbytes * 1e-9"
   ]
  },
  {
   "cell_type": "code",
   "execution_count": 178,
   "metadata": {},
   "outputs": [],
   "source": [
    "# Lets use double-difference PDI\n",
    "pbs_angles = [0,np.pi/4,np.pi/2,3*np.pi/4]\n",
    "single_differences = []\n",
    "single_sums = []\n",
    "\n",
    "# construct wavefront with disk\n"
   ]
  },
  {
   "cell_type": "code",
   "execution_count": null,
   "metadata": {},
   "outputs": [],
   "source": []
  },
  {
   "cell_type": "code",
   "execution_count": 190,
   "metadata": {},
   "outputs": [],
   "source": [
    "from importlib import reload\n",
    "import instruments\n",
    "reload(instruments)\n",
    "from instruments import double_difference_stokes as pdi\n",
    "Q,U = pdi(stokes)"
   ]
  },
  {
   "cell_type": "code",
   "execution_count": 193,
   "metadata": {},
   "outputs": [
    {
     "data": {
      "text/plain": [
       "<matplotlib.colorbar.Colorbar at 0x1c83d8ef490>"
      ]
     },
     "execution_count": 193,
     "metadata": {},
     "output_type": "execute_result"
    },
    {
     "data": {
      "image/png": "[encoded data removed]",
      "text/plain": [
       "<Figure size 640x480 with 2 Axes>"
      ]
     },
     "metadata": {},
     "output_type": "display_data"
    }
   ],
   "source": [
    "plt.imshow(Q-stokes[1])\n",
    "plt.colorbar()"
   ]
  },
  {
   "cell_type": "code",
   "execution_count": null,
   "metadata": {},
   "outputs": [],
   "source": []
  }
 ],
 "metadata": {
  "kernelspec": {
   "display_name": "gsmts",
   "language": "python",
   "name": "python3"
  },
  "language_info": {
   "codemirror_mode": {
    "name": "ipython",
    "version": 3
   },
   "file_extension": ".py",
   "mimetype": "text/x-python",
   "name": "python",
   "nbconvert_exporter": "python",
   "pygments_lexer": "ipython3",
   "version": "3.8.18"
  },
  "orig_nbformat": 4
 },
 "nbformat": 4,
 "nbformat_minor": 2
}
