{
 "cells": [
  {
   "cell_type": "code",
   "execution_count": 1,
   "metadata": {},
   "outputs": [],
   "source": [
    "import numpy as np\n",
    "import matplotlib.pyplot as plt\n",
    "from hcipy import *"
   ]
  },
  {
   "cell_type": "code",
   "execution_count": 2,
   "metadata": {},
   "outputs": [],
   "source": [
    "# Set up grids\n",
    "# wvl = 1e-6\n",
    "# fno = 30\n",
    "# pupil_grid = make_pupil_grid(2048,30)\n",
    "# focal_grid = make_focal_grid(q=4,num_airy=120,spatial_resolution=wvl*fno)\n",
    "\n",
    "# # Entrance pupil\n",
    "# gmt = evaluate_supersampled(make_gmt_aperture(normalized=False),pupil_grid,4)\n",
    "# gmtfield = Wavefront(gmt,wvl)\n",
    "# imshow_field(gmtfield.intensity)"
   ]
  },
  {
   "cell_type": "code",
   "execution_count": 33,
   "metadata": {},
   "outputs": [],
   "source": [
    "class DummyRayfront:\n",
    "    def __init__(self,jones_pupil):\n",
    "        self.jones_pupil = jones_pupil\n",
    "\n",
    "class Instrument:\n",
    "    def __init__(self,aperture,Rayfront,coronagraph='Ideal',wavelength=1e-6,npix_pupil=1024,pupil_diameter=50.8e-3,q_focal=4,nairy_focal=8,*coro_args,**coro_kwargs):\n",
    "        \"\"\"creates a high-contrast imaging instrumnet using the HCIPy optical propagation package for diffraction and poke to generate jones pupils\n",
    "        This object is tailored to the GSMT's, so functionality is restricted to these models.\n",
    "\n",
    "        Parameters\n",
    "        ----------\n",
    "        aperture : str\n",
    "            'ELT', 'TMT', or 'GMT'\n",
    "        coronagraph : str, optional\n",
    "            'VVC', 'APLC', or 'Ideal'. by default Ideal, which uses the PerfectCoronagraphs\n",
    "        Rayfront : poke.Rayfront\n",
    "            Rayfront object from poke used to create the Jones Pupils. Must have the raytrace done\n",
    "        wavelength : float, optional\n",
    "            wavelength of light, by default 1 to maintain units of lambda/D\n",
    "        npix_pupil : int, optional\n",
    "            number of samples across the pupil, by default 1024\n",
    "        pupil_diameter : float, optional\n",
    "            Diameter of the pupil in meters, by default 1 to maintain units of lambda/D\n",
    "        q_focal : int, optional\n",
    "            Number of samples per lambda/D, by default 8\n",
    "        nairy_focal : int, optional\n",
    "            number of lambda/D across the FoV of the focal grid, by default 10\n",
    "        \"\"\"\n",
    "\n",
    "        # load basic parameters\n",
    "        self.wavelength = wavelength\n",
    "        self.npix_pupil = npix_pupil\n",
    "        self.pupil_diameter = pupil_diameter\n",
    "        self.q = q_focal\n",
    "        self.nairy = nairy_focal\n",
    "\n",
    "        # load jones pupil\n",
    "        self.jones_pupil = Rayfront.jones_pupil # This assumes data on a square grid\n",
    "\n",
    "        # configure grids for focusing\n",
    "        self.pupil_grid = make_pupil_grid(self.npix_pupil,self.pupil_diameter)\n",
    "        self.focal_grid = make_focal_grid(self.q,self.nairy)\n",
    "\n",
    "        # configure fraunhofer propagator for pupil-to-focus propagation\n",
    "        self.pupil_to_focus = FraunhoferPropagator(self.pupil_grid,self.focal_grid) # .forward() and .reverse() work\n",
    "\n",
    "        # configure fresnel propagation for plane-to-plane\n",
    "        self.plane_to_plane = FresnelPropagator(self.pupil_grid,pupil_diameter*10*2) # F/10 OAPs, 4f system\n",
    "\n",
    "        # set up deformable mirror\n",
    "        num_actuators_across = 32\n",
    "        actuator_spacing = 1.05 / 32 * self.pupil_diameter\n",
    "        aberration_ptv = 0.02 * self.wavelength # m\n",
    "        influence_functions = make_gaussian_influence_functions(self.pupil_grid, num_actuators_across, actuator_spacing)\n",
    "        self.deformable_mirror = DeformableMirror(influence_functions)\n",
    "\n",
    "        # make surface aberrations\n",
    "        tip_tilt = make_zernike_basis(3, self.pupil_diameter, self.pupil_grid, starting_mode=2)\n",
    "        self.aberration = SurfaceAberration(self.pupil_grid, aberration_ptv, self.pupil_diameter, remove_modes=tip_tilt, exponent=-3)\n",
    "\n",
    "        # Create a 80% Lyot Stop\n",
    "        self.lyot = evaluate_supersampled(make_circular_aperture(self.pupil_diameter*0.8),self.pupil_grid,1)\n",
    "        # Initialize wavefront from Jones Pupil\n",
    "        # jones_field = Field([[self.jones_pupil[0,0].ravel(),self.jones_pupil[0,1].ravel()],\n",
    "        #                       [self.jones_pupil[1,0].ravel(),self.jones_pupil[1,1].ravel()]],self.pupil_grid)\n",
    "        jones_field = Field(self.jones_pupil[1,1].ravel(),self.pupil_grid)\n",
    "        self.entrance_pupil = Wavefront(jones_field,self.wavelength, input_stokes_vector=[1,0,0,0])\n",
    "\n",
    "        \"\"\"Telescope-specific parameters\"\"\"\n",
    "        if aperture == 'ELT':\n",
    "            self.primary_mirror = make_elt_aperture\n",
    "        elif aperture == 'TMT':\n",
    "            self.primary_mirror = make_tmt_aperture\n",
    "        elif aperture == 'GMT':\n",
    "            print('using GMT')\n",
    "            self.primary_mirror = make_gmt_aperture(self.pupil_grid)\n",
    "\n",
    "        \"\"\"coronagraph-specific parameters\"\"\"\n",
    "        if coronagraph == 'APLC':\n",
    "            self.coro = KnifeEdgeLyotCoronagraph(self.pupil_grid,*coro_args,**coro_kwargs)\n",
    "        elif coronagraph == 'VVC':\n",
    "            self.coro = VortexCoronagraph(self.pupil_grid,*coro_args,**coro_kwargs)\n",
    "        else:\n",
    "            self.coro = PerfectCoronagraph(self.entrance_pupil,*coro_args,**coro_kwargs)\n",
    "\n",
    "\n",
    "    def calc_psf(self,polarization='x'):\n",
    "        \"\"\"computes the psf of the current state of the instrument\n",
    "        \"\"\"\n",
    "\n",
    "        print('started function')\n",
    "        # if polarization == 'x':\n",
    "        #     fieldstart = Field(self.entrance_pupil.electric_field[0,0],self.pupil_grid)\n",
    "\n",
    "        # begin at coronagraph exit pupil, propagate through 4f to get to DM beginning at the coronagraph EP\n",
    "        print('start diffraction calculation')\n",
    "        print('add aperture')\n",
    "        wf = self.primary_mirror#(self.entrance_pupil)\n",
    "        print('first near-field propagation')\n",
    "        wf = self.plane_to_plane(wf)\n",
    "        print('made it past first plane-to-plane')\n",
    "        # wf = self.aberration(wf) # hit an OAP\n",
    "        print('made it past first aberration')\n",
    "        wf = self.pupil_to_focus.forward(wf)\n",
    "        wf = self.pupil_to_focus.reverse(wf)\n",
    "        # wf = self.aberration(wf) # hit an OAP\n",
    "        print('made it past second aberration')\n",
    "        wf = self.plane_to_plane(wf)\n",
    "        \n",
    "        # apply deformable mirror\n",
    "        wf = self.deformable_mirror(wf)\n",
    "        print('made it past deformable mirror')\n",
    "        wf = self.plane_to_plane(wf)\n",
    "        # wf = self.aberration(wf) # hit an OAP\n",
    "        print('made it past 3rd aberration')\n",
    "        wf = self.pupil_to_focus.forward(wf)\n",
    "        wf = self.pupil_to_focus.reverse(wf)\n",
    "        # wf = self.aberration(wf) # hit an OAP\n",
    "        print('made it past fourth aberration')\n",
    "        wf = self.plane_to_plane(wf)\n",
    "\n",
    "        # Apply coronagraph\n",
    "        wf = self.coro.forward(wf)\n",
    "        # wf = self.aberration(wf) # hit an OAP\n",
    "        wf = self.plane_to_plane(wf)\n",
    "        wf = self.lyot(wf)\n",
    "        wf = self.pupil_to_focus(wf)\n",
    "\n",
    "        return wf\n",
    "\n",
    "    def get_dm(self):\n",
    "        \"\"\"gets the current DM\n",
    "        \"\"\"\n",
    "        pass\n",
    "\n",
    "    def add_dm(self,probe):\n",
    "        \"\"\"adds dm surface\n",
    "\n",
    "        Parameters\n",
    "        ----------\n",
    "        probe : _type_\n",
    "            _description_\n",
    "        \"\"\"\n",
    "        pass\n",
    "\n"
   ]
  },
  {
   "cell_type": "code",
   "execution_count": 47,
   "metadata": {},
   "outputs": [
    {
     "name": "stderr",
     "output_type": "stream",
     "text": [
      "/opt/anaconda3/lib/python3.8/site-packages/hcipy/optics/aberration.py:37: RuntimeWarning: divide by zero encountered in power\n",
      "  res = Field(grid.as_('polar').r**exponent, grid)\n"
     ]
    },
    {
     "name": "stdout",
     "output_type": "stream",
     "text": [
      "using GMT\n"
     ]
    }
   ],
   "source": [
    "# init a Jones pupil dummy\n",
    "npix = 1024\n",
    "jones_ondiag = np.ones([npix,npix])\n",
    "jones_offdiag = np.zeros([npix,npix])\n",
    "jones_pupil = np.asarray([[jones_ondiag,jones_offdiag],[jones_offdiag,jones_ondiag]])\n",
    "# jones_pupil = np.moveaxis(jones_pupil,-1,0)\n",
    "# jones_pupil = np.moveaxis(jones_pupil,-1,0)\n",
    "rf = DummyRayfront(jones_pupil)\n",
    "\n",
    "# test an instrument\n",
    "gmt_coronagraph = Instrument('GMT',rf,coronagraph='APLC',npix_pupil=npix)"
   ]
  },
  {
   "cell_type": "code",
   "execution_count": 51,
   "metadata": {},
   "outputs": [
    {
     "name": "stderr",
     "output_type": "stream",
     "text": [
      "/opt/anaconda3/lib/python3.8/site-packages/hcipy/optics/aberration.py:37: RuntimeWarning: divide by zero encountered in power\n",
      "  res = Field(grid.as_('polar').r**exponent, grid)\n"
     ]
    },
    {
     "ename": "TypeError",
     "evalue": "make_gmt_aperture() got multiple values for argument 'normalized'",
     "output_type": "error",
     "traceback": [
      "\u001b[0;31m---------------------------------------------------------------------------\u001b[0m",
      "\u001b[0;31mTypeError\u001b[0m                                 Traceback (most recent call last)",
      "\u001b[0;32m<ipython-input-51-d48ecdfe144a>\u001b[0m in \u001b[0;36m<module>\u001b[0;34m\u001b[0m\n\u001b[1;32m     34\u001b[0m \u001b[0mjones_field\u001b[0m \u001b[0;34m=\u001b[0m \u001b[0mField\u001b[0m\u001b[0;34m(\u001b[0m\u001b[0mjones_pupil\u001b[0m\u001b[0;34m[\u001b[0m\u001b[0;36m1\u001b[0m\u001b[0;34m,\u001b[0m\u001b[0;36m1\u001b[0m\u001b[0;34m]\u001b[0m\u001b[0;34m.\u001b[0m\u001b[0mravel\u001b[0m\u001b[0;34m(\u001b[0m\u001b[0;34m)\u001b[0m\u001b[0;34m,\u001b[0m\u001b[0mpupil_grid\u001b[0m\u001b[0;34m)\u001b[0m\u001b[0;34m\u001b[0m\u001b[0;34m\u001b[0m\u001b[0m\n\u001b[1;32m     35\u001b[0m \u001b[0mentrance_pupil\u001b[0m \u001b[0;34m=\u001b[0m \u001b[0mWavefront\u001b[0m\u001b[0;34m(\u001b[0m\u001b[0mjones_field\u001b[0m\u001b[0;34m,\u001b[0m\u001b[0mwavelength\u001b[0m\u001b[0;34m)\u001b[0m\u001b[0;34m\u001b[0m\u001b[0;34m\u001b[0m\u001b[0m\n\u001b[0;32m---> 36\u001b[0;31m \u001b[0mprimary_mirror\u001b[0m \u001b[0;34m=\u001b[0m \u001b[0mmake_gmt_aperture\u001b[0m\u001b[0;34m(\u001b[0m\u001b[0mpupil_grid\u001b[0m\u001b[0;34m,\u001b[0m\u001b[0mnormalized\u001b[0m\u001b[0;34m=\u001b[0m\u001b[0;32mTrue\u001b[0m\u001b[0;34m)\u001b[0m\u001b[0;34m\u001b[0m\u001b[0;34m\u001b[0m\u001b[0m\n\u001b[0m\u001b[1;32m     37\u001b[0m \u001b[0mcoro\u001b[0m \u001b[0;34m=\u001b[0m \u001b[0mKnifeEdgeLyotCoronagraph\u001b[0m\u001b[0;34m(\u001b[0m\u001b[0mpupil_grid\u001b[0m\u001b[0;34m)\u001b[0m\u001b[0;34m\u001b[0m\u001b[0;34m\u001b[0m\u001b[0m\n",
      "\u001b[0;31mTypeError\u001b[0m: make_gmt_aperture() got multiple values for argument 'normalized'"
     ]
    }
   ],
   "source": [
    "# Let's try from the beginning\n",
    "# configure grids for focusing\n",
    "wavelength=1e-6\n",
    "npix_pupil=1024\n",
    "pupil_diameter=50.8e-3\n",
    "q=4\n",
    "nairy=8\n",
    "\n",
    "pupil_grid = make_pupil_grid(npix_pupil,pupil_diameter)\n",
    "focal_grid = make_focal_grid(q,nairy)\n",
    "\n",
    "# configure fraunhofer propagator for pupil-to-focus propagation\n",
    "pupil_to_focus = FraunhoferPropagator(pupil_grid,focal_grid) # .forward() and .reverse() work\n",
    "\n",
    "# configure fresnel propagation for plane-to-plane\n",
    "plane_to_plane = FresnelPropagator(pupil_grid,pupil_diameter*10*2) # F/10 OAPs, 4f system\n",
    "\n",
    "# set up deformable mirror\n",
    "num_actuators_across = 32\n",
    "actuator_spacing = 1.05 / 32 * pupil_diameter\n",
    "aberration_ptv = 0.02 * wavelength # \n",
    "influence_functions = make_gaussian_influence_functions(pupil_grid, num_actuators_across, actuator_spacing)\n",
    "deformable_mirror = DeformableMirror(influence_functions)\n",
    "\n",
    "# make surface aberrations\n",
    "tip_tilt = make_zernike_basis(3, pupil_diameter, pupil_grid, starting_mode=2)\n",
    "aberration = SurfaceAberration(pupil_grid, aberration_ptv, pupil_diameter, remove_modes=tip_tilt, exponent=-3)\n",
    "\n",
    "# Create a 80% Lyot Stop\n",
    "lyot = evaluate_supersampled(make_circular_aperture(pupil_diameter*0.8),pupil_grid,1)\n",
    "# Initialize wavefront from Jones Pupil\n",
    "# jones_field = Field([[self.jones_pupil[0,0].ravel(),self.jones_pupil[0,1].ravel()],\n",
    "#                       [self.jones_pupil[1,0].ravel(),self.jones_pupil[1,1].ravel()]],self.pupil_grid)\n",
    "jones_field = Field(jones_pupil[1,1].ravel(),pupil_grid)\n",
    "entrance_pupil = Wavefront(jones_field,wavelength)\n",
    "primary_mirror = make_gmt_aperture(pupil_grid)\n",
    "coro = KnifeEdgeLyotCoronagraph(pupil_grid)"
   ]
  },
  {
   "cell_type": "code",
   "execution_count": null,
   "metadata": {},
   "outputs": [
    {
     "ename": "AttributeError",
     "evalue": "'Wavefront' object has no attribute 'zeros'",
     "output_type": "error",
     "traceback": [
      "\u001b[0;31m---------------------------------------------------------------------------\u001b[0m",
      "\u001b[0;31mAttributeError\u001b[0m                            Traceback (most recent call last)",
      "\u001b[0;32m<ipython-input-50-c5e806b61ad7>\u001b[0m in \u001b[0;36m<module>\u001b[0;34m\u001b[0m\n\u001b[0;32m----> 1\u001b[0;31m \u001b[0mwf\u001b[0m \u001b[0;34m=\u001b[0m \u001b[0mcoro\u001b[0m\u001b[0;34m.\u001b[0m\u001b[0mforward\u001b[0m\u001b[0;34m(\u001b[0m\u001b[0mprimary_mirror\u001b[0m\u001b[0;34m(\u001b[0m\u001b[0mentrance_pupil\u001b[0m\u001b[0;34m)\u001b[0m\u001b[0;34m)\u001b[0m\u001b[0;34m\u001b[0m\u001b[0;34m\u001b[0m\u001b[0m\n\u001b[0m",
      "\u001b[0;32m/opt/anaconda3/lib/python3.8/site-packages/hcipy/aperture/realistic.py\u001b[0m in \u001b[0;36mmake_aperture\u001b[0;34m(grid)\u001b[0m\n\u001b[1;32m    898\u001b[0m         \u001b[0;31m# Center segment obscurations\u001b[0m\u001b[0;34m\u001b[0m\u001b[0;34m\u001b[0m\u001b[0;34m\u001b[0m\u001b[0m\n\u001b[1;32m    899\u001b[0m         \u001b[0;32mdef\u001b[0m \u001b[0mmake_aperture\u001b[0m\u001b[0;34m(\u001b[0m\u001b[0mgrid\u001b[0m\u001b[0;34m)\u001b[0m\u001b[0;34m:\u001b[0m\u001b[0;34m\u001b[0m\u001b[0;34m\u001b[0m\u001b[0m\n\u001b[0;32m--> 900\u001b[0;31m                 \u001b[0maperture\u001b[0m \u001b[0;34m=\u001b[0m \u001b[0mgrid\u001b[0m\u001b[0;34m.\u001b[0m\u001b[0mzeros\u001b[0m\u001b[0;34m(\u001b[0m\u001b[0;34m)\u001b[0m\u001b[0;34m\u001b[0m\u001b[0;34m\u001b[0m\u001b[0m\n\u001b[0m\u001b[1;32m    901\u001b[0m                 \u001b[0;32mfor\u001b[0m \u001b[0msegment\u001b[0m \u001b[0;32min\u001b[0m \u001b[0msegment_functions\u001b[0m\u001b[0;34m:\u001b[0m\u001b[0;34m\u001b[0m\u001b[0;34m\u001b[0m\u001b[0m\n\u001b[1;32m    902\u001b[0m                         \u001b[0maperture\u001b[0m \u001b[0;34m+=\u001b[0m \u001b[0msegment\u001b[0m\u001b[0;34m(\u001b[0m\u001b[0mgrid\u001b[0m\u001b[0;34m)\u001b[0m\u001b[0;34m\u001b[0m\u001b[0;34m\u001b[0m\u001b[0m\n",
      "\u001b[0;31mAttributeError\u001b[0m: 'Wavefront' object has no attribute 'zeros'"
     ]
    }
   ],
   "source": [
    "wf = coro.forward(primary_mirror(entrance_pupil))"
   ]
  },
  {
   "cell_type": "code",
   "execution_count": null,
   "metadata": {},
   "outputs": [],
   "source": [
    "img = pupil_to_focus.forward(wf)"
   ]
  },
  {
   "cell_type": "code",
   "execution_count": null,
   "metadata": {},
   "outputs": [
    {
     "data": {
      "text/plain": [
       "<matplotlib.image.NonUniformImage at 0x7f91a0ce4fa0>"
      ]
     },
     "execution_count": 46,
     "metadata": {},
     "output_type": "execute_result"
    },
    {
     "data": {
      "image/png": "[encoded data removed]",
      "text/plain": [
       "<Figure size 432x288 with 1 Axes>"
      ]
     },
     "metadata": {
      "needs_background": "light"
     },
     "output_type": "display_data"
    }
   ],
   "source": [
    "imshow_field(np.log10(img.intensity))"
   ]
  },
  {
   "cell_type": "code",
   "execution_count": 59,
   "metadata": {},
   "outputs": [
    {
     "data": {
      "text/plain": [
       "<matplotlib.colorbar.Colorbar at 0x7f9191f3f880>"
      ]
     },
     "execution_count": 59,
     "metadata": {},
     "output_type": "execute_result"
    },
    {
     "data": {
      "image/png": "[encoded data removed]",
      "text/plain": [
       "<Figure size 432x288 with 2 Axes>"
      ]
     },
     "metadata": {
      "needs_background": "light"
     },
     "output_type": "display_data"
    }
   ],
   "source": [
    "primary_mirror = make_gmt_aperture(normalized=True)\n",
    "norm_pupil_grid = make_pupil_grid(1024)\n",
    "aperture_field = primary_mirror(norm_pupil_grid)\n",
    "\n",
    "# Scale Pupil\n",
    "imshow_field(aperture_field)\n",
    "plt.colorbar()"
   ]
  },
  {
   "cell_type": "code",
   "execution_count": 53,
   "metadata": {},
   "outputs": [
    {
     "data": {
      "text/plain": [
       "<function hcipy.aperture.realistic.make_gmt_aperture.<locals>.make_aperture(grid)>"
      ]
     },
     "execution_count": 53,
     "metadata": {},
     "output_type": "execute_result"
    }
   ],
   "source": []
  },
  {
   "cell_type": "code",
   "execution_count": null,
   "metadata": {},
   "outputs": [],
   "source": []
  }
 ],
 "metadata": {
  "kernelspec": {
   "display_name": "base",
   "language": "python",
   "name": "python3"
  },
  "language_info": {
   "codemirror_mode": {
    "name": "ipython",
    "version": 3
   },
   "file_extension": ".py",
   "mimetype": "text/x-python",
   "name": "python",
   "nbconvert_exporter": "python",
   "pygments_lexer": "ipython3",
   "version": "3.8.8"
  },
  "orig_nbformat": 4
 },
 "nbformat": 4,
 "nbformat_minor": 2
}
